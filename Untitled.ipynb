{
 "cells": [
  {
   "cell_type": "code",
   "execution_count": 1,
   "metadata": {},
   "outputs": [],
   "source": [
    "import pandas as pd\n",
    "import csv\n",
    "import scipy.optimize as opt\n",
    "from datetime import datetime\n",
    "import numpy as np"
   ]
  },
  {
   "cell_type": "code",
   "execution_count": 34,
   "metadata": {},
   "outputs": [
    {
     "name": "stderr",
     "output_type": "stream",
     "text": [
      "b'Skipping line 145: expected 119 fields, saw 120\\nSkipping line 257: expected 119 fields, saw 120\\n'\n"
     ]
    }
   ],
   "source": [
    "cases = pd.read_csv('data/sample/time_series_covid19_confirmed_global.csv',error_bad_lines=False)\n",
    "cases = cases.groupby(\"Country/Region\").sum()\n",
    "cases = cases.reset_index()\n",
    "\n",
    "clean_cases = cases.rename(columns = {\"Country/Region\": \"Country\"})\n",
    "clean_cases = clean_cases.drop([\"Lat\",\"Long\"], axis=1)\n",
    "clean_cases.to_csv('data/sample/clean_confirmed_global.csv', index=False)\n",
    "\n"
   ]
  },
  {
   "cell_type": "code",
   "execution_count": 3,
   "metadata": {},
   "outputs": [],
   "source": [
    "def strip_records(series):\n",
    "    '''strip the leading zero entries in the series\n",
    "    '''\n",
    "    values = series.values\n",
    "    index = series.index.values\n",
    "    for i, (x, y) in enumerate(zip(values, series)):\n",
    "        if x > 0:\n",
    "            break\n",
    "    return series.iloc[i:]\n"
   ]
  },
  {
   "cell_type": "code",
   "execution_count": 4,
   "metadata": {},
   "outputs": [],
   "source": [
    "def split_train_test(series, days=7, date_format=\"%m/%d/%y\"):\n",
    "    '''\n",
    "    split training and testing. For a normal dataset, split the last x days data as test.\n",
    "    Raise error when the effective days is less than x+3.\n",
    "    input:\n",
    "        series (pandas.core.series.Series): pandas series of a record of a region\n",
    "        days (int): the amount of days used to make prediction\n",
    "    output:\n",
    "        x (np.array): an array of day index\n",
    "        y (np.array): number of cases on that corresponds with the day index\n",
    "    '''\n",
    "    if len(series) < days+3: \n",
    "        raise Exception(\"Dataset too short to predict\")\n",
    "    else:\n",
    "        x = series.index.values\n",
    "        y = series.values\n",
    "        x = [datetime.strptime(s, date_format) for s in x]\n",
    "        first_date = x[0]\n",
    "        x = [(s - first_date).days for s in x]\n",
    "        \n",
    "        x_train = np.array(x[:-days])\n",
    "        y_train = y[:-days]\n",
    "        x_test = np.array(x[-days:])\n",
    "        y_test = y[-days:]\n",
    "    return x_train, x_test, y_train, y_test"
   ]
  },
  {
   "cell_type": "code",
   "execution_count": 5,
   "metadata": {},
   "outputs": [],
   "source": [
    "class exponential_model(object):\n",
    "    \n",
    "    def __init__(self, lower_bound = 0, upper_bound = [np.inf, np.inf]):\n",
    "        self.popt = None\n",
    "        self.pcov = None\n",
    "        self.lower_bound = lower_bound\n",
    "        self.upper_bound = upper_bound\n",
    "        \n",
    "    def func(self, x, a, b):\n",
    "        return a * np.exp(b * x)\n",
    "    \n",
    "    def fit(self, x, y):\n",
    "        ''' fit the model\n",
    "        input:\n",
    "            x, y(numpy.array): input arrays\n",
    "        output:\n",
    "            None\n",
    "        '''\n",
    "        self.popt, self.pcov = opt.curve_fit(self.func, \n",
    "                                             x, y,\n",
    "                                             bounds = (self.lower_bound, self.upper_bound))    \n",
    "    def predict(self, x):\n",
    "        '''predict the x array\n",
    "        input:\n",
    "            x (numpy.array): input array\n",
    "        output:\n",
    "            y (numpy.array): output label array\n",
    "        '''\n",
    "        y = self.func(x, *self.popt)\n",
    "        return y\n",
    "    \n",
    "    def get_coeff(self):\n",
    "        '''get coefficient of the model\n",
    "        detailed information is here: \n",
    "        https://docs.scipy.org/doc/scipy/reference/generated/scipy.optimize.curve_fit.html\n",
    "        output:\n",
    "            (dict): a dictionary of popt and pcov\n",
    "        '''\n",
    "        return {\"popt\": self.popt, \"pcov\": self.pcov}\n",
    "    \n",
    "    \n",
    "\n",
    "# evaluation\n",
    "from sklearn.metrics import r2_score\n",
    "from sklearn.metrics import mean_squared_log_error\n",
    "\n",
    "def evaluate(y_test, y_pred):\n",
    "    r2 = r2_score(y_test, y_pred)\n",
    "    msle = mean_squared_log_error(y_test, y_pred)\n",
    "    return {'r2': r2, 'msle': msle}"
   ]
  },
  {
   "cell_type": "code",
   "execution_count": 21,
   "metadata": {},
   "outputs": [
    {
     "data": {
      "text/plain": [
       "<matplotlib.legend.Legend at 0x1a51ff8590>"
      ]
     },
     "execution_count": 21,
     "metadata": {},
     "output_type": "execute_result"
    },
    {
     "data": {
      "image/png": "[encoded data removed]",
      "text/plain": [
       "<Figure size 432x288 with 1 Axes>"
      ]
     },
     "metadata": {
      "needs_background": "light"
     },
     "output_type": "display_data"
    }
   ],
   "source": [
    "import matplotlib.pyplot as plt\n",
    "\n",
    "# extract information\n",
    "# i = 0\n",
    "i = 22\n",
    "dates_col = cases.columns[3:]\n",
    "country = cases.loc[i, :][0]\n",
    "series = cases[dates_col].loc[i, :]\n",
    "\n",
    "# clean data\n",
    "strip_series = strip_records(series)\n",
    "x_train, x_test, y_train, y_test = split_train_test(strip_series, 10)\n",
    "\n",
    "# modeling\n",
    "exp_model = exponential_model()\n",
    "exp_model.fit(x_train, y_train)\n",
    "y_pred = exp_model.predict(x_test)\n",
    "evaluation = evaluate(y_test, y_pred)\n",
    "\n",
    "plt.plot(x_train, y_train)\n",
    "plt.plot(np.concatenate([x_train, x_test]), \n",
    "         np.concatenate([y_train, y_test]), label=\"actual\")\n",
    "plt.plot(np.concatenate([[x_train[-1]], x_test]),\n",
    "         np.concatenate([[y_train[-1]], y_pred]), label=\"prediction\")\n",
    "plt.legend()"
   ]
  },
  {
   "cell_type": "code",
   "execution_count": 25,
   "metadata": {},
   "outputs": [],
   "source": [
    "r2, msle = evaluate(y_test, y_pred)"
   ]
  },
  {
   "cell_type": "code",
   "execution_count": 27,
   "metadata": {},
   "outputs": [
    {
     "name": "stdout",
     "output_type": "stream",
     "text": [
      "0 Afghanistan {'r2': 0.8102986627497712, 'msle': 0.004548053602279929}\n",
      "1 Albania {'r2': -198.83279515761603, 'msle': 0.10380936351627643}\n",
      "2 Algeria {'r2': -5.6658934344932925, 'msle': 0.03741809230830586}\n",
      "3 Andorra {'r2': -13969.08533181463, 'msle': 0.19712566377944252}\n",
      "4 Angola {'r2': -0.30001055140267496, 'msle': 0.009171902538468741}\n",
      "5 Antigua and Barbuda {'r2': 0.0, 'msle': 0.16723700020102955}\n",
      "6 Argentina {'r2': -2.213981379578166, 'msle': 0.03367444963145215}\n",
      "7 Armenia {'r2': 0.7369434985724598, 'msle': 0.002878365340652182}\n",
      "8 Australia {'r2': -9137.907344622216, 'msle': 0.2172940674283393}\n",
      "9 Austria {'r2': -4145.896622480974, 'msle': 0.1761281056795306}\n",
      "10 Azerbaijan {'r2': -3.7560451674947304, 'msle': 0.04128308800905873}\n",
      "11 Bahamas {'r2': -726.614806910491, 'msle': 0.12495882263120764}\n",
      "12 Bahrain {'r2': 0.942826446051268, 'msle': 0.0015947661474725945}\n",
      "13 Bangladesh {'r2': -4.839083037029739, 'msle': 0.09339369366814074}\n",
      "14 Barbados {'r2': -888.9970739056841, 'msle': 0.10963400660781004}\n",
      "15 Belarus {'r2': -16.515332909010425, 'msle': 0.125598511247806}\n",
      "16 Belgium {'r2': -586.0911141619865, 'msle': 0.18379229248733636}\n",
      "17 Belize {'r2': 0.0, 'msle': 0.19534328893238842}\n",
      "18 Benin {'r2': -2.221784245351544, 'msle': 0.463188457141814}\n",
      "19 Bhutan {'r2': 0.1719523027481381, 'msle': 0.11134215689046137}\n",
      "20 Bolivia {'r2': 0.8354282726245583, 'msle': 0.004133165125898333}\n",
      "21 Bosnia and Herzegovina {'r2': -110.06841461774826, 'msle': 0.0954960791497941}\n",
      "22 Botswana {'r2': -575.1118356052737, 'msle': 0.1519676840949066}\n",
      "23 Brazil {'r2': 0.3586110426790423, 'msle': 0.011898844984144993}\n",
      "24 Brunei {'r2': -4660.062666559399, 'msle': 0.06369560511095326}\n",
      "25 Bulgaria {'r2': -19.683390971936312, 'msle': 0.04787040124783878}\n",
      "26 Burkina Faso {'r2': -272.9014132699479, 'msle': 0.08765161948180723}\n",
      "27 Burma {'r2': -278.8781101633898, 'msle': 0.17448711541405873}\n",
      "28 Burundi {'r2': 0.0, 'msle': 0.15616289170951808}\n",
      "29 Cabo Verde {'r2': -2.0260978728325596, 'msle': 0.04495713015059297}\n",
      "30 Cambodia {'r2': 0.0, 'msle': 0.22170303713657286}\n",
      "31 Cameroon {'r2': -5.369778331825797, 'msle': 0.058780848004455}\n",
      "32 Canada {'r2': -70.33633029969606, 'msle': 0.11227430892330856}\n",
      "33 Central African Republic {'r2': -0.3786764190028409, 'msle': 0.1136122975966806}\n",
      "34 Chad {'r2': 0.43870007359870367, 'msle': 0.04445114569026506}\n",
      "35 Chile {'r2': 0.9834494541308998, 'msle': 0.0004735934093101032}\n",
      "36 China {'r2': -944733.288031388, 'msle': 0.056861634160939624}\n",
      "37 Colombia {'r2': 0.6101283122125257, 'msle': 0.006540234661674272}\n",
      "38 Comoros {'r2': -6.886117681454605, 'msle': 0.12817002392081261}\n",
      "39 Congo (Brazzaville) {'r2': -2.8566636892017905, 'msle': 0.06536718953993723}\n",
      "40 Congo (Kinshasa) {'r2': 0.980876931362003, 'msle': 0.0005427897442450903}\n",
      "41 Costa Rica {'r2': -147.6702625453822, 'msle': 0.1084178142373913}\n",
      "42 Cote d'Ivoire {'r2': -10.901961293642303, 'msle': 0.07190106226097517}\n",
      "43 Croatia {'r2': -1118.0575065785881, 'msle': 0.18149109249343637}\n",
      "44 Cuba {'r2': -539.6619255751024, 'msle': 0.18278725020936554}\n",
      "45 Cyprus {'r2': -3057.481039178133, 'msle': 0.16559694665711214}\n",
      "46 Czechia {'r2': -919.4216664433746, 'msle': 0.15350624562192278}\n",
      "47 Denmark {'r2': -261.6891237380702, 'msle': 0.1114089518131812}\n",
      "48 Diamond Princess {'r2': 0.0, 'msle': 0.028323436608681224}\n",
      "49 Djibouti {'r2': -198.0992631681282, 'msle': 0.28025433674940914}\n",
      "50 Dominica {'r2': 0.0, 'msle': 0.04896004040251728}\n",
      "51 Dominican Republic {'r2': -7.667881960573435, 'msle': 0.050535409222341565}\n",
      "52 Ecuador {'r2': -787.0112161421528, 'msle': 0.3558266681415508}\n",
      "53 Egypt {'r2': -0.3968565621851412, 'msle': 0.014563305385896428}\n",
      "54 El Salvador {'r2': 0.9555080689345337, 'msle': 0.0018295919539406155}\n",
      "55 Equatorial Guinea {'r2': -13.260256421191237, 'msle': 0.1313260582869214}\n",
      "56 Eritrea {'r2': 0.0, 'msle': 0.1387350984155211}\n",
      "57 Estonia {'r2': -3219.313505027859, 'msle': 0.1701949392729581}\n",
      "58 Eswatini {'r2': -18.100595996010746, 'msle': 0.128959670893613}\n",
      "59 Ethiopia {'r2': 0.7144890810396152, 'msle': 0.0077475718667373876}\n",
      "60 Fiji {'r2': 0.0, 'msle': 0.13627678718772768}\n",
      "61 Finland {'r2': -148.12002537631568, 'msle': 0.10930024562738679}\n",
      "62 France {'r2': -4297.630167985916, 'msle': 0.2143352940514284}\n",
      "63 Gabon {'r2': 0.6560104364886423, 'msle': 0.02822290344434329}\n",
      "64 Gambia {'r2': 0.7668768839469148, 'msle': 0.001709282701164495}\n",
      "65 Georgia {'r2': -225.24035065162653, 'msle': 0.13017175243496085}\n",
      "66 Germany {'r2': -1964.115844509302, 'msle': 0.18742531346302238}\n",
      "67 Ghana {'r2': 0.872750353973155, 'msle': 0.0056204865777068356}\n",
      "68 Greece {'r2': -897.5920806993659, 'msle': 0.14364719057411168}\n",
      "69 Grenada {'r2': -389.05518380502764, 'msle': 0.05442678030907007}\n",
      "70 Guatemala {'r2': 0.6320886482434072, 'msle': 0.02035608587295695}\n",
      "71 Guinea {'r2': -29.262160687080037, 'msle': 0.1519792099711013}\n",
      "72 Guinea-Bissau {'r2': -15.943746004972798, 'msle': 0.21959668453896306}\n",
      "73 Guyana {'r2': -10.152801405385558, 'msle': 0.0620624789987097}\n",
      "74 Haiti {'r2': -0.10189347362526746, 'msle': 0.10089272669919487}\n",
      "75 Holy See {'r2': 0.0, 'msle': 0.04698363234438925}\n",
      "76 Honduras {'r2': -0.7312822429821928, 'msle': 0.04754492251025576}\n",
      "77 Hungary {'r2': -305.2692562117343, 'msle': 0.1591532769343451}\n",
      "78 Iceland {'r2': -1411730.6264069276, 'msle': 0.18661828215121545}\n",
      "79 India {'r2': -0.32244758109022564, 'msle': 0.019867797707486486}\n",
      "80 Indonesia {'r2': -10.281354586803259, 'msle': 0.06334439540474116}\n",
      "81 Iran {'r2': -65.17863617391082, 'msle': 0.08723621471089409}\n",
      "82 Iraq {'r2': -4.571816055969033, 'msle': 0.03030857078641721}\n",
      "83 Ireland {'r2': -610.1262285981235, 'msle': 0.20043123598120866}\n",
      "84 Israel {'r2': -14277.835721189325, 'msle': 0.21742008035752317}\n",
      "85 Italy {'r2': -1266.1151256340972, 'msle': 0.14827263832507573}\n",
      "86 Jamaica {'r2': -1223.2694051811757, 'msle': 0.28603087513042735}\n",
      "87 Japan {'r2': -1059.5961044556914, 'msle': 0.20341610035212848}\n",
      "88 Jordan {'r2': -12.307248295703614, 'msle': 0.05717472412529271}\n",
      "89 Kazakhstan {'r2': -21.935690026965606, 'msle': 0.08288095983706988}\n",
      "90 Kenya {'r2': 0.23785993841485897, 'msle': 0.004893559882511894}\n",
      "91 Kosovo {'r2': -223.86318239338559, 'msle': 0.18949458070005892}\n",
      "92 Kuwait {'r2': 0.9536235070217451, 'msle': 0.0018867581712019832}\n",
      "93 Kyrgyzstan {'r2': -15.016085027326426, 'msle': 0.07023319467596367}\n",
      "94 Laos {'r2': 0.0, 'msle': 0.0878713709615986}\n",
      "95 Latvia {'r2': -354.4483506433307, 'msle': 0.11879530223043729}\n",
      "96 Lebanon {'r2': -33.90654340431064, 'msle': 0.07768260611141266}\n",
      "Dataset too short to predict\n",
      "98 Liberia {'r2': -51.49970351047444, 'msle': 0.11329899450985696}\n",
      "99 Libya {'r2': 0.0, 'msle': 0.21816002628592934}\n",
      "100 Liechtenstein {'r2': 0.0, 'msle': 0.14215022331926003}\n",
      "101 Lithuania {'r2': -606.1027788827121, 'msle': 0.19094449170618646}\n",
      "102 Luxembourg {'r2': -8792.510509885491, 'msle': 0.1765607547405036}\n",
      "103 MS Zaandam {'r2': 0.0, 'msle': 0.02514748034819942}\n",
      "104 Madagascar {'r2': 0.6986968709730196, 'msle': 0.003931860303426936}\n",
      "105 Malawi {'r2': -1.3672192230734215, 'msle': 0.037738567118807784}\n",
      "106 Malaysia {'r2': -498.8054477893505, 'msle': 0.14479651757149184}\n",
      "107 Maldives {'r2': -31.73789041345359, 'msle': 0.2996424954793827}\n",
      "108 Mali {'r2': -45.31167739777626, 'msle': 0.1446608722238826}\n",
      "109 Malta {'r2': -229.67391225367328, 'msle': 0.13599096508459546}\n",
      "110 Mauritania {'r2': 0.09136845336060162, 'msle': 0.14040714245868724}\n",
      "111 Mauritius {'r2': 0.0, 'msle': 0.1558912244834004}\n",
      "112 Mexico {'r2': -1.785792940094479, 'msle': 0.038579986691792176}\n",
      "113 Moldova {'r2': -25.104946560722105, 'msle': 0.10184640383607244}\n",
      "114 Monaco {'r2': -14634.938279554677, 'msle': 0.20024954923052984}\n",
      "115 Mongolia {'r2': 0.2500329167805133, 'msle': 0.10397817806025164}\n",
      "116 Montenegro {'r2': 0.0, 'msle': 0.16685249402178043}\n",
      "117 Morocco {'r2': -27.946186448105237, 'msle': 0.09085291634339132}\n",
      "118 Mozambique {'r2': -9.950253529615924, 'msle': 0.131745913712476}\n",
      "119 Namibia {'r2': 0.0, 'msle': 0.10069810718907916}\n",
      "120 Nepal {'r2': 0.27689128660837337, 'msle': 0.08770013526439586}\n",
      "121 Netherlands {'r2': -966.8119001288181, 'msle': 0.16668087146489666}\n",
      "122 New Zealand {'r2': -85081.77937879955, 'msle': 0.2325134973456237}\n",
      "123 Nicaragua {'r2': 0.5461447463516824, 'msle': 0.022632445857845546}\n",
      "124 Niger {'r2': -110.45576781208051, 'msle': 0.14404873582885197}\n"
     ]
    },
    {
     "name": "stdout",
     "output_type": "stream",
     "text": [
      "125 Nigeria {'r2': -2.542334620054818, 'msle': 0.0474364751316396}\n",
      "126 North Macedonia {'r2': -181.33098296681808, 'msle': 0.16161949554892438}\n",
      "127 Norway {'r2': -2930.338559646121, 'msle': 0.1353277269992897}\n",
      "128 Oman {'r2': -2.3230631967156463, 'msle': 0.056438884292076184}\n",
      "129 Pakistan {'r2': 0.48705780916152686, 'msle': 0.008570745733993433}\n",
      "130 Panama {'r2': -36.400701453179195, 'msle': 0.08462834631029495}\n",
      "131 Papua New Guinea {'r2': 0.0, 'msle': 0.2481176072083917}\n",
      "132 Paraguay {'r2': -0.09513604074571913, 'msle': 0.03762690916929969}\n",
      "133 Peru {'r2': -5.350963273914483, 'msle': 0.06368995558042581}\n",
      "134 Philippines {'r2': -31.578213273878553, 'msle': 0.07925254267377942}\n",
      "135 Poland {'r2': -31.142727040468294, 'msle': 0.09057698224310086}\n",
      "136 Portugal {'r2': -375.8929988836292, 'msle': 0.14965316533686046}\n",
      "137 Qatar {'r2': -1.7464518684878882, 'msle': 0.04468304427555807}\n",
      "138 Romania {'r2': -73.53216789477034, 'msle': 0.10603263241080059}\n",
      "139 Russia {'r2': -4.885551391968895, 'msle': 0.06819435568069587}\n",
      "140 Rwanda {'r2': -150.594634140911, 'msle': 0.06604107700363632}\n",
      "141 Saint Kitts and Nevis {'r2': 0.0, 'msle': 0.09135140219255983}\n",
      "142 Saint Lucia {'r2': 0.0, 'msle': 0.07520204790206578}\n",
      "143 Saint Vincent and the Grenadines {'r2': 0.0, 'msle': 0.15351205641269097}\n",
      "144 San Marino {'r2': -285.591540375056, 'msle': 0.08170653454317324}\n",
      "Optimal parameters not found: The maximum number of function evaluations is exceeded.\n",
      "146 Saudi Arabia {'r2': -4.7431172183548425, 'msle': 0.0634408285013646}\n",
      "147 Senegal {'r2': 0.5613435204069874, 'msle': 0.007851699045121107}\n",
      "148 Serbia {'r2': -867.5271689285273, 'msle': 0.2121394119582151}\n",
      "149 Seychelles {'r2': 0.0, 'msle': 0.04680572519748095}\n",
      "150 Sierra Leone {'r2': -0.26374588281909195, 'msle': 0.033561981726991735}\n",
      "151 Singapore {'r2': -34.56059422892926, 'msle': 0.1568604019803184}\n",
      "152 Slovakia {'r2': -3452.0616104392434, 'msle': 0.1964552164417131}\n",
      "153 Slovenia {'r2': -11739.798528888266, 'msle': 0.13763164694770044}\n",
      "154 Somalia {'r2': -18.582151132287983, 'msle': 0.16747846789732868}\n",
      "155 South Africa {'r2': 0.991550889144598, 'msle': 0.00028310021058226213}\n",
      "156 South Sudan {'r2': 0.9008420341795582, 'msle': 0.016242851996789424}\n",
      "157 Spain {'r2': -1453.7866209191154, 'msle': 0.19561480430658276}\n",
      "158 Sri Lanka {'r2': -55.461275391430945, 'msle': 0.08911121465136677}\n",
      "159 Sudan {'r2': -1.1051765342764464, 'msle': 0.06359415764422915}\n",
      "160 Suriname {'r2': 0.0, 'msle': 0.06458710780303696}\n",
      "161 Sweden {'r2': -31.190077704534012, 'msle': 0.08074176837435036}\n",
      "162 Switzerland {'r2': -13615.28248432361, 'msle': 0.17769608758037142}\n",
      "163 Syria {'r2': -242.61123700147868, 'msle': 0.12987215225459217}\n",
      "164 Taiwan* {'r2': -605424.3067742015, 'msle': 0.17657193685471423}\n",
      "165 Tajikistan {'r2': -4016.5225504488058, 'msle': 4.506140402508246}\n",
      "166 Tanzania {'r2': -1781.674630391512, 'msle': 0.41086458887152266}\n",
      "167 Thailand {'r2': -25732.312864346142, 'msle': 0.2180500990696755}\n",
      "168 Timor-Leste {'r2': 0.0, 'msle': 0.38416480354847327}\n",
      "169 Togo {'r2': 0.7174512743046193, 'msle': 0.01390756896944179}\n",
      "170 Trinidad and Tobago {'r2': 0.0, 'msle': 0.10391465647604214}\n",
      "171 Tunisia {'r2': -38729.474238053874, 'msle': 0.1858089430794782}\n",
      "172 Turkey {'r2': -284.162088221219, 'msle': 0.17908347335876545}\n",
      "173 US {'r2': -75.51100510895927, 'msle': 0.11737305433856704}\n",
      "174 Uganda {'r2': 0.4086327527864222, 'msle': 0.02110843167925725}\n",
      "175 Ukraine {'r2': -25.161363476210276, 'msle': 0.11173980688778509}\n",
      "176 United Arab Emirates {'r2': -10.090084116584288, 'msle': 0.07998954486590173}\n",
      "177 United Kingdom {'r2': -67.93682159369662, 'msle': 0.10967945205830262}\n",
      "178 Uruguay {'r2': -132.08503897076082, 'msle': 0.06032699436112658}\n",
      "179 Uzbekistan {'r2': -68.73357220295324, 'msle': 0.1546789739396552}\n",
      "180 Venezuela {'r2': -9.8074972470511, 'msle': 0.034272641889717244}\n",
      "181 Vietnam {'r2': -124.51307780307243, 'msle': 0.13963516387865377}\n",
      "182 West Bank and Gaza {'r2': -333504.49452270375, 'msle': 0.138892609454553}\n",
      "183 Western Sahara {'r2': 0.0, 'msle': 0.017863678232849158}\n",
      "184 Yemen {'r2': -12.821413464830139, 'msle': 0.4754972926783035}\n",
      "185 Zambia {'r2': -0.5310226214841305, 'msle': 0.4127833240897997}\n",
      "186 Zimbabwe {'r2': -72.64820427684873, 'msle': 0.16776109721696994}\n"
     ]
    }
   ],
   "source": [
    "msle_list = []\n",
    "r2_list = []\n",
    "\n",
    "for i in range(len(cases)):\n",
    "    try:\n",
    "        # extract information\n",
    "        dates_col = cases.columns[3:]\n",
    "        country = cases.loc[i, :][0]\n",
    "        series = cases[dates_col].loc[i, :]\n",
    "        \n",
    "        # clean data\n",
    "        strip_series = strip_records(series)\n",
    "        x_train, x_test, y_train, y_test = split_train_test(strip_series, 10)\n",
    "        \n",
    "        # modeling\n",
    "        exp_model = exponential_model()\n",
    "        exp_model.fit(x_train, y_train)\n",
    "        y_pred = exp_model.predict(x_test)\n",
    "        evaluation = evaluate(y_test, y_pred)\n",
    "        print(i, country, evaluation)\n",
    "        msle_list.append(evaluation[\"msle\"])\n",
    "        r2_list.append(evaluation[\"r2\"])\n",
    "        \n",
    "    except Exception as e:\n",
    "        print(e)"
   ]
  },
  {
   "cell_type": "code",
   "execution_count": 30,
   "metadata": {},
   "outputs": [
    {
     "data": {
      "text/plain": [
       "(0.2918918918918919, 0.8756756756756757)"
      ]
     },
     "execution_count": 30,
     "metadata": {},
     "output_type": "execute_result"
    }
   ],
   "source": [
    "len(r2_list_pos) / len(r2_list), len(msle_list_small) / len(msle_list)"
   ]
  },
  {
   "cell_type": "code",
   "execution_count": 29,
   "metadata": {},
   "outputs": [
    {
     "data": {
      "text/plain": [
       "(array([24., 14., 16., 15., 16., 18., 13., 19., 13., 14.]),\n",
       " array([0.0002831 , 0.01996736, 0.03965161, 0.05933587, 0.07902013,\n",
       "        0.09870438, 0.11838864, 0.13807289, 0.15775715, 0.17744141,\n",
       "        0.19712566]),\n",
       " <a list of 10 Patch objects>)"
      ]
     },
     "execution_count": 29,
     "metadata": {},
     "output_type": "execute_result"
    },
    {
     "data": {
      "image/png": "[encoded data removed]",
      "text/plain": [
       "<Figure size 432x288 with 1 Axes>"
      ]
     },
     "metadata": {
      "needs_background": "light"
     },
     "output_type": "display_data"
    }
   ],
   "source": [
    "# 99% of the r^2 is positive\n",
    "r2_list_pos = [x for x in r2_list if x>=0]\n",
    "# plt.hist(r2_list_pos)\n",
    "msle_list_small = [x for x in msle_list if x<0.2 and x>0]\n",
    "plt.hist(msle_list_small)"
   ]
  },
  {
   "cell_type": "markdown",
   "metadata": {},
   "source": [
    "# LSTM Model"
   ]
  },
  {
   "cell_type": "code",
   "execution_count": 13,
   "metadata": {},
   "outputs": [],
   "source": [
    "from keras.models import Sequential\n",
    "from keras.layers import LSTM, Dense\n",
    "\n",
    "import os\n",
    "import numpy as np\n",
    "import tensorflow as tf\n",
    "import random as python_random\n",
    "\n",
    "os.environ['PYTHONHASHSEED']=str(0)\n",
    "np.random.seed(123)\n",
    "python_random.seed(123)\n",
    "tf.random.set_seed(1234)\n",
    "\n",
    "class lstm_model(object):\n",
    "    \n",
    "    def __init__(self, n_steps=10, n_features=1, n_output=1, nodes=50, epoch=50,\n",
    "                 activation=\"relu\", optimizer='adam', loss='mse'):\n",
    "        # define params\n",
    "        self.n_steps = n_steps\n",
    "        self.n_features = n_features\n",
    "        self.epoch = epoch\n",
    "        \n",
    "        # define model\n",
    "        self.model = Sequential()\n",
    "        self.model.add(LSTM(nodes, activation=activation, input_shape=(n_steps, n_features)))\n",
    "        self.model.add(Dense(n_output))\n",
    "        self.model.compile(optimizer=optimizer, loss=loss)\n",
    "    \n",
    "\n",
    "    def _split_sequence(self, sequence, n_steps):\n",
    "        '''split a univariate sequence into samples\n",
    "        input: \n",
    "            sequence (np.array): input sequence to be split\n",
    "            n_steps (int): number of steps to split the sequence\n",
    "        output:\n",
    "            X (np.array): features array\n",
    "            y (np.array): output array\n",
    "        '''\n",
    "        X, y = list(), list()\n",
    "        for i in range(len(sequence)):\n",
    "            # find the end of this pattern\n",
    "            end_ix = i + n_steps\n",
    "            # check if we are beyond the sequence\n",
    "            if end_ix > len(sequence)-1:\n",
    "                break\n",
    "            # gather input and output parts of the pattern\n",
    "            seq_x, seq_y = sequence[i:end_ix], sequence[end_ix]\n",
    "            X.append(seq_x)\n",
    "            y.append(seq_y)\n",
    "        return np.array(X), np.array(y)\n",
    "    \n",
    "    def _calculate_incre(self, array):\n",
    "        '''get increasing percentage of a numpy array, and fill the null value with 0\n",
    "        '''\n",
    "        array_diff = np.diff(array)\n",
    "        array = array[1:]\n",
    "        array_perc_diff = array_diff / array\n",
    "        for i, x in enumerate(array_perc_diff):\n",
    "            if x == x: # get the first none null value\n",
    "                break\n",
    "        array_perc_diff = array_perc_diff[i:]\n",
    "\n",
    "        # fillna as 0\n",
    "        where_are_NaNs = np.isnan(array_perc_diff)\n",
    "        array_perc_diff[where_are_NaNs] = 0\n",
    "        return array_perc_diff\n",
    "    \n",
    "    def _process_incre(self, incres, start_num):\n",
    "        ''' get the array of licres value and a number to start, calculate the actual number'''\n",
    "        incres += 1\n",
    "        for i, x in enumerate(incres):\n",
    "            incres[i] = start_num * incres[i]\n",
    "            start_num = incres[i]\n",
    "        return incres\n",
    "    \n",
    "    def fit(self, x, y):\n",
    "        ''' fit the model\n",
    "        input:\n",
    "            x, y(numpy.array): input arrays\n",
    "        output:\n",
    "            None\n",
    "        '''\n",
    "        incres = self._calculate_incre(y)\n",
    "        x_lstm, y_lstm = self._split_sequence(incres, self.n_steps)\n",
    "        print(x_lstm.shape)\n",
    "        x_lstm = x_lstm.reshape((x_lstm.shape[0], x_lstm.shape[1], self.n_features))\n",
    "        \n",
    "        self.model.fit(x_lstm, y_lstm, epochs=self.epoch, verbose=0)\n",
    "        self.lasty = y[-1]\n",
    "        self.last_incres = incres[-self.n_steps:]\n",
    "    \n",
    "    def predict(self, x):\n",
    "        '''predict the x array\n",
    "        input:\n",
    "            x (numpy.array): input array\n",
    "        output:\n",
    "            y_pred (numpy.array): output label array\n",
    "        '''\n",
    "        y_pred = list(self.last_incres)\n",
    "        for i in range(x.shape[0]):\n",
    "            x_input = np.array(y_pred[-self.n_steps:])\n",
    "            x_input = x_input.reshape((1, self.n_steps, self.n_features))\n",
    "            \n",
    "            y_tmp = self.model.predict(x_input, verbose=0)\n",
    "            y_pred.append(y_tmp[0])\n",
    "        y_pred = np.concatenate(y_pred[self.n_steps:])\n",
    "        \n",
    "        # post processing\n",
    "        y_pred = self._process_incre(y_pred, self.lasty)\n",
    "        return y_pred\n",
    "    "
   ]
  },
  {
   "cell_type": "code",
   "execution_count": 14,
   "metadata": {},
   "outputs": [
    {
     "name": "stdout",
     "output_type": "stream",
     "text": [
      "(61, 10)\n"
     ]
    }
   ],
   "source": [
    "# extract information\n",
    "i = 0\n",
    "# i = 15\n",
    "dates_col = cases.columns[3:]\n",
    "country = cases.loc[i, :][0]\n",
    "series = cases[dates_col].loc[i, :]\n",
    "\n",
    "# clean data\n",
    "strip_series = strip_records(series)\n",
    "\n",
    "model = lstm_model()\n",
    "\n",
    "x_train, x_test, y_train, y_test = split_train_test(strip_series, 10)\n",
    "\n",
    "model.fit(x_train, y_train)\n",
    "y_pred = model.predict(x_test)"
   ]
  },
  {
   "cell_type": "code",
   "execution_count": 12,
   "metadata": {},
   "outputs": [
    {
     "data": {
      "text/plain": [
       "<matplotlib.legend.Legend at 0x1a50f1b250>"
      ]
     },
     "execution_count": 12,
     "metadata": {},
     "output_type": "execute_result"
    },
    {
     "data": {
      "image/png": "[encoded data removed]",
      "text/plain": [
       "<Figure size 432x288 with 1 Axes>"
      ]
     },
     "metadata": {
      "needs_background": "light"
     },
     "output_type": "display_data"
    }
   ],
   "source": [
    "import matplotlib.pyplot as plt\n",
    "plt.plot(x_train, y_train)\n",
    "plt.plot(np.concatenate([x_train, x_test]), \n",
    "         np.concatenate([y_train, y_test]), label=\"actual\")\n",
    "plt.plot(np.concatenate([[x_train[-1]], x_test]),\n",
    "         np.concatenate([[y_train[-1]], y_pred]), label=\"prediction\")\n",
    "plt.legend()"
   ]
  },
  {
   "cell_type": "markdown",
   "metadata": {},
   "source": [
    "# Logistic Growth Model"
   ]
  },
  {
   "cell_type": "code",
   "execution_count": 23,
   "metadata": {},
   "outputs": [],
   "source": [
    "class logistic_model(object):\n",
    "    \n",
    "    def __init__(self, lower_bound = 0, upper_bound = [np.inf, 1, np.inf]):\n",
    "        self.popt = None\n",
    "        self.pcov = None\n",
    "        self.lower_bound = lower_bound\n",
    "        self.upper_bound = upper_bound\n",
    "        \n",
    "    def func(self, x, a, b, c):\n",
    "        return c / (1 + a * np.exp(- b * x))\n",
    "    \n",
    "    def fit(self, x, y):\n",
    "        ''' fit the model\n",
    "        input:\n",
    "            x, y(numpy.array): input arrays\n",
    "        output:\n",
    "            None\n",
    "        '''\n",
    "        self.popt, self.pcov = opt.curve_fit(self.func, \n",
    "                                             x, y,\n",
    "                                             bounds = (self.lower_bound, self.upper_bound))    \n",
    "    def predict(self, x):\n",
    "        '''predict the x array\n",
    "        input:\n",
    "            x (numpy.array): input array\n",
    "        output:\n",
    "            y (numpy.array): output label array\n",
    "        '''\n",
    "        y = self.func(x, *self.popt)\n",
    "        return y\n",
    "    \n",
    "    def get_coeff(self):\n",
    "        '''get coefficient of the model\n",
    "        detailed information is here: \n",
    "        https://docs.scipy.org/doc/scipy/reference/generated/scipy.optimize.curve_fit.html\n",
    "        output:\n",
    "            (dict): a dictionary of popt and pcov\n",
    "        '''\n",
    "        return {\"popt\": self.popt, \"pcov\": self.pcov}"
   ]
  },
  {
   "cell_type": "code",
   "execution_count": 25,
   "metadata": {},
   "outputs": [
    {
     "data": {
      "text/plain": [
       "<matplotlib.legend.Legend at 0x1a5226c090>"
      ]
     },
     "execution_count": 25,
     "metadata": {},
     "output_type": "execute_result"
    },
    {
     "data": {
      "image/png": "[encoded data removed]",
      "text/plain": [
       "<Figure size 432x288 with 1 Axes>"
      ]
     },
     "metadata": {
      "needs_background": "light"
     },
     "output_type": "display_data"
    }
   ],
   "source": [
    "import matplotlib.pyplot as plt\n",
    "\n",
    "# extract information\n",
    "i = 0\n",
    "# i = 22\n",
    "dates_col = cases.columns[3:]\n",
    "country = cases.loc[i, :][0]\n",
    "series = cases[dates_col].loc[i, :]\n",
    "\n",
    "# clean data\n",
    "strip_series = strip_records(series)\n",
    "x_train, x_test, y_train, y_test = split_train_test(strip_series, 10)\n",
    "\n",
    "# modeling\n",
    "model = logistic_model()\n",
    "model.fit(x_train, y_train)\n",
    "y_pred = model.predict(x_test)\n",
    "evaluation = evaluate(y_test, y_pred)\n",
    "\n",
    "plt.plot(x_train, y_train)\n",
    "plt.plot(np.concatenate([x_train, x_test]), \n",
    "         np.concatenate([y_train, y_test]), label=\"actual\")\n",
    "plt.plot(np.concatenate([[x_train[-1]], x_test]),\n",
    "         np.concatenate([[y_train[-1]], y_pred]), label=\"prediction\")\n",
    "plt.legend()"
   ]
  },
  {
   "cell_type": "code",
   "execution_count": 31,
   "metadata": {},
   "outputs": [],
   "source": [
    "# import datetime\n",
    "\n",
    "# dates = [\"5/8/20\", \"5/9/20\", \"5/10/20\", \"5/11/20\", \"5/12/20\", \"5/13/20\", \"5/14/20\", \"5/15/20\"]\n",
    "# date_format=\"%m/%d/%y\"\n",
    "\n",
    "# def get_date_span(dates, date_format = \"%m/%d/%y\", span=7):\n",
    "#     ''' input a list a date, return the next X day\n",
    "#     input:\n",
    "#         dates (string[]): list of dates\n",
    "#     output:\n",
    "#         dates (string[]): list of dates of the next X days\n",
    "#     '''\n",
    "#     last_day = dates[-1]\n",
    "#     last_day = datetime.datetime.strptime(last_day, date_format)\n",
    "#     next_days = [last_day + datetime.timedelta(days=i+1) for i in range(span)]\n",
    "#     next_days = [x.strftime(\"%m/%d/%y\") for x in next_days]\n",
    "#     return next_days\n",
    "    \n",
    "    \n",
    "# get_date_span(dates)\n",
    "\n",
    "\n"
   ]
  },
  {
   "cell_type": "code",
   "execution_count": 30,
   "metadata": {},
   "outputs": [],
   "source": [
    "# write to db\n",
    "tracks = db.session.query(Tracks).limit(app.config[\"MAX_ROWS_SHOW\"]).all()\n",
    "\n",
    "\n"
   ]
  }
 ],
 "metadata": {
  "kernelspec": {
   "display_name": "Python 3",
   "language": "python",
   "name": "python3"
  },
  "language_info": {
   "codemirror_mode": {
    "name": "ipython",
    "version": 3
   },
   "file_extension": ".py",
   "mimetype": "text/x-python",
   "name": "python",
   "nbconvert_exporter": "python",
   "pygments_lexer": "ipython3",
   "version": "3.7.6"
  }
 },
 "nbformat": 4,
 "nbformat_minor": 2
}
